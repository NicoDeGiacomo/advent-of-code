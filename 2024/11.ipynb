{
 "cells": [
  {
   "cell_type": "code",
   "execution_count": 19,
   "metadata": {},
   "outputs": [],
   "source": [
    "input = '''0 44 175060 3442 593 54398 9 8101095'''"
   ]
  },
  {
   "cell_type": "code",
   "execution_count": 20,
   "metadata": {},
   "outputs": [],
   "source": [
    "stones = list(map(int, input.split()))"
   ]
  },
  {
   "cell_type": "code",
   "execution_count": 21,
   "metadata": {},
   "outputs": [
    {
     "name": "stdout",
     "output_type": "stream",
     "text": [
      "197157\n"
     ]
    }
   ],
   "source": [
    "# Answer 1\n",
    "\n",
    "def blink(stones):\n",
    "    new_stones = []\n",
    "    for s in stones:\n",
    "        if s == 0:\n",
    "            new_stones.append(1)\n",
    "        elif len(str(s)) % 2 == 0:\n",
    "            new_stones.append(int(str(s)[:int(len(str(s)) / 2)]))\n",
    "            new_stones.append(int(str(s)[int(len(str(s)) / 2):]))\n",
    "        else:\n",
    "            new_stones.append(s * 2024)\n",
    "    return new_stones\n",
    "\n",
    "new_stones = stones\n",
    "for i in range(25):\n",
    "    new_stones = blink(new_stones)\n",
    "print(len(new_stones))"
   ]
  },
  {
   "cell_type": "code",
   "execution_count": 24,
   "metadata": {},
   "outputs": [
    {
     "data": {
      "text/plain": [
       "234430066982597"
      ]
     },
     "execution_count": 24,
     "metadata": {},
     "output_type": "execute_result"
    }
   ],
   "source": [
    "# Answer 2\n",
    "# Could be done with https://docs.python.org/3/library/functools.html#functools.cache\n",
    "\n",
    "memory = {}\n",
    "def blink(n, stone):\n",
    "    if n == 0:\n",
    "        return 1\n",
    "    \n",
    "    if (n, stone) in memory:\n",
    "        return memory[(n, stone)]\n",
    "    \n",
    "    if stone == 0:\n",
    "            r = blink(n - 1, 1)\n",
    "            memory[(n, stone)] = r\n",
    "            return r\n",
    "    elif len(str(stone)) % 2 == 0:\n",
    "        s_stone = str(stone)\n",
    "        len_stone = len(s_stone)\n",
    "        l_stone = int(s_stone[:int(len_stone / 2)])\n",
    "        r_stone = int(s_stone[int(len_stone / 2):])\n",
    "        r = blink(n - 1, l_stone) + blink(n - 1, r_stone)\n",
    "        memory[(n, stone)] = r\n",
    "        return r\n",
    "    else:\n",
    "        r = blink(n - 1, stone * 2024)\n",
    "        memory[(n, stone)] = r\n",
    "        return r\n",
    "\n",
    "total = 0\n",
    "for s in stones:\n",
    "    total += blink(75, s)\n",
    "total"
   ]
  }
 ],
 "metadata": {
  "kernelspec": {
   "display_name": "Python 3",
   "language": "python",
   "name": "python3"
  },
  "language_info": {
   "codemirror_mode": {
    "name": "ipython",
    "version": 3
   },
   "file_extension": ".py",
   "mimetype": "text/x-python",
   "name": "python",
   "nbconvert_exporter": "python",
   "pygments_lexer": "ipython3",
   "version": "3.12.3"
  }
 },
 "nbformat": 4,
 "nbformat_minor": 2
}
