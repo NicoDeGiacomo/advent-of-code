{
 "cells": [
  {
   "cell_type": "code",
   "execution_count": 338,
   "metadata": {},
   "outputs": [],
   "source": [
    "input = ''''\n",
    "Register A: 0\n",
    "Register B: 0\n",
    "Register C: 0\n",
    "\n",
    "Program: 2,4,1,7,7,5,1,7,4,6,0,3,5,5,3,0\n",
    "'''"
   ]
  },
  {
   "cell_type": "code",
   "execution_count": 339,
   "metadata": {},
   "outputs": [
    {
     "data": {
      "text/plain": [
       "({'A': 0, 'B': 0, 'C': 0}, [2, 4, 1, 7, 7, 5, 1, 7, 4, 6, 0, 3, 5, 5, 3, 0])"
      ]
     },
     "execution_count": 339,
     "metadata": {},
     "output_type": "execute_result"
    }
   ],
   "source": [
    "registers = {}\n",
    "program = []\n",
    "\n",
    "for line in input.split('\\n'):\n",
    "    if line.startswith('Register '):\n",
    "        register, value = line.split(': ')\n",
    "        registers[register.split(' ')[1]] = int(value)\n",
    "    elif line.startswith('Program: '):\n",
    "        program = list(map(int, line.split(':')[1].split(',')))\n",
    "\n",
    "registers, program"
   ]
  },
  {
   "cell_type": "code",
   "execution_count": 340,
   "metadata": {},
   "outputs": [
    {
     "name": "stdout",
     "output_type": "stream",
     "text": [
      "0\n"
     ]
    }
   ],
   "source": [
    "# Answer: 1\n",
    "\n",
    "def get_combo_operand(operand):\n",
    "    if 0 <= operand <= 3:\n",
    "        return operand\n",
    "    if operand == 4:\n",
    "        return registers['A']\n",
    "    if operand == 5:\n",
    "        return registers['B']\n",
    "    if operand == 6:\n",
    "        return registers['C']\n",
    "\n",
    "def adv(input, _):\n",
    "    numerator = registers['A']\n",
    "    denominator = 2 ** get_combo_operand(input)\n",
    "    registers['A'] = int(numerator // denominator)\n",
    "\n",
    "def bxl(input, _):\n",
    "    registers['B'] = registers['B'] ^ input\n",
    "\n",
    "def bst(input, _):\n",
    "    registers['B'] = get_combo_operand(input) % 8\n",
    "\n",
    "def bxc(_, __):\n",
    "    registers['B'] = registers['B'] ^ registers['C']\n",
    "\n",
    "def out(input, output):\n",
    "    output.append(get_combo_operand(input) % 8)\n",
    "\n",
    "def bdv(input, _):\n",
    "    numerator = registers['A']\n",
    "    denominator = 2 ** get_combo_operand(input)\n",
    "    registers['B'] = int(numerator // denominator)\n",
    "\n",
    "def cdv(input, _):\n",
    "    numerator = registers['A']\n",
    "    denominator = 2 ** get_combo_operand(input)\n",
    "    registers['C'] = int(numerator // denominator)\n",
    "\n",
    "instructions = {\n",
    "    0: adv,\n",
    "    1: bxl,\n",
    "    2: bst,\n",
    "    4: bxc,\n",
    "    5: out,\n",
    "    6: bdv,\n",
    "    7: cdv\n",
    "}\n",
    "\n",
    "def run_program():\n",
    "    output = []\n",
    "    instruction_pointer = 0\n",
    "    while instruction_pointer < len(program):\n",
    "        opcode = int(program[instruction_pointer])\n",
    "        operand = int(program[instruction_pointer + 1])\n",
    "\n",
    "        if opcode == 3: # jnz\n",
    "            if registers['A'] != 0:\n",
    "                instruction_pointer = operand\n",
    "                continue\n",
    "        else:\n",
    "            instructions[opcode](operand, output)\n",
    "\n",
    "        instruction_pointer += 2\n",
    "    \n",
    "    return output\n",
    "\n",
    "print(','.join(map(str, run_program())))"
   ]
  },
  {
   "cell_type": "code",
   "execution_count": 341,
   "metadata": {},
   "outputs": [
    {
     "data": {
      "text/plain": [
       "265061364597659"
      ]
     },
     "execution_count": 341,
     "metadata": {},
     "output_type": "execute_result"
    }
   ],
   "source": [
    "# Answer 2\n",
    "def simplified_program_for_a(a):\n",
    "    # Program: 2,4,1,7,7,5,1,7,4,6,0,3,5,5,3,0\n",
    "    out = []\n",
    "    b = 0\n",
    "    c = 0\n",
    "\n",
    "    while a:\n",
    "        b = a % 8\n",
    "        b = b ^ 7\n",
    "        c = a // 2 ** b\n",
    "        b = b ^ 7\n",
    "        b = b ^ c\n",
    "        a = a // 2 ** 3\n",
    "        out.append(b % 8)\n",
    "    \n",
    "    return out\n",
    "\n",
    "def find_a(program):\n",
    "    valid_a_values = {0}\n",
    "\n",
    "    for req_output in reversed(program):\n",
    "        next_valid_a_values = set()\n",
    "        \n",
    "        for a in valid_a_values:\n",
    "            for candidate_a in range(a << 3, (a << 3) + 8):\n",
    "                out = simplified_program_for_a(candidate_a)\n",
    "                if out and out[0] == req_output:\n",
    "                    next_valid_a_values.add(candidate_a)\n",
    "                    \n",
    "        valid_a_values = next_valid_a_values\n",
    "    \n",
    "    return min(valid_a_values)\n",
    "\n",
    "find_a([2,4,1,7,7,5,1,7,4,6,0,3,5,5,3,0])"
   ]
  }
 ],
 "metadata": {
  "kernelspec": {
   "display_name": "Python 3",
   "language": "python",
   "name": "python3"
  },
  "language_info": {
   "codemirror_mode": {
    "name": "ipython",
    "version": 3
   },
   "file_extension": ".py",
   "mimetype": "text/x-python",
   "name": "python",
   "nbconvert_exporter": "python",
   "pygments_lexer": "ipython3",
   "version": "3.12.3"
  }
 },
 "nbformat": 4,
 "nbformat_minor": 2
}
