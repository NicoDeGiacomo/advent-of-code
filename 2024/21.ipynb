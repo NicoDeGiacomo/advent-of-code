{
 "cells": [
  {
   "cell_type": "code",
   "execution_count": 312,
   "metadata": {},
   "outputs": [],
   "source": [
    "input = '''\n",
    "805A\n",
    "964A\n",
    "459A\n",
    "968A\n",
    "671A\n",
    "'''.strip()"
   ]
  },
  {
   "cell_type": "code",
   "execution_count": 313,
   "metadata": {},
   "outputs": [],
   "source": [
    "# First, some definitions\n",
    "\n",
    "codes = input.split('\\n')\n",
    "\n",
    "directional_keypad = [['', '^', 'A'],\n",
    "                      ['<', 'v', '>']]\n",
    "numeric_keypad = [['7', '8', '9'],\n",
    "                  ['4', '5', '6'],\n",
    "                  ['1', '2', '3'],\n",
    "                  ['', '0', 'A']]"
   ]
  },
  {
   "cell_type": "code",
   "execution_count": 314,
   "metadata": {},
   "outputs": [],
   "source": [
    "symbols = {(0, -1): '^', (0, 1): 'v', (-1, 0): '<', (1, 0): '>'}\n",
    "def bfs(start, end, keypad):\n",
    "    best_paths = []\n",
    "    best_path_len = float('inf')\n",
    "\n",
    "    queue = [(start, '')]\n",
    "    \n",
    "    while queue:\n",
    "        (x, y), path = queue.pop(0)\n",
    "\n",
    "        if (x, y) == end:\n",
    "            if len(path) < best_path_len:\n",
    "                best_paths = [path + 'A']\n",
    "                best_path_len = len(path)\n",
    "            elif len(path) == best_path_len:\n",
    "                best_paths.append(path + 'A')\n",
    "            continue\n",
    "\n",
    "        if len(path) >= best_path_len:\n",
    "            continue\n",
    "        \n",
    "        for dx, dy in [(0, 1), (0, -1), (-1, 0), (1, 0)]:\n",
    "            nx, ny = x + dx, y + dy\n",
    "            if 0 <= nx < len(keypad) and 0 <= ny < len(keypad[0]) and keypad[nx][ny] != '':\n",
    "                queue.append(((nx, ny), path + symbols[dy, dx]))\n",
    "\n",
    "    return best_paths\n",
    "\n",
    "def get_all_paths(keypad):\n",
    "    paths = {}\n",
    "    for x1 in range(len(keypad)):\n",
    "        for y1 in range(len(keypad[0])):\n",
    "            if keypad[x1][y1] != '':\n",
    "                for x2 in range(len(keypad)):\n",
    "                    for y2 in range(len(keypad[0])):\n",
    "                        if keypad[x2][y2] != '':\n",
    "                            paths[keypad[x1][y1], keypad[x2][y2]] = bfs((x1, y1), (x2, y2), keypad)\n",
    "    return paths\n",
    "\n",
    "# We pre-calculate all the minimum paths between all pairs of keys for both keypads\n",
    "numeric_keypad_paths = get_all_paths(numeric_keypad)\n",
    "directional_keypad_paths = get_all_paths(directional_keypad)\n",
    "all_shortest_paths = numeric_keypad_paths | directional_keypad_paths"
   ]
  },
  {
   "cell_type": "code",
   "execution_count": 315,
   "metadata": {},
   "outputs": [],
   "source": [
    "# Now we use the previously calculated paths to calculate the minimum path length for the given code. We do this recursively, with memoization.\n",
    "# Base Case: The human punches the code (bot = 0). The length of the path is the length of the code.\n",
    "# Recurrence: For each pair of symbols in the code, for each possible (pre-calculated) path, we calculate the minimum path length for the next bot.\n",
    "# Result: We keep the minimum path length once all bots have punched the code.\n",
    "\n",
    "from functools import cache\n",
    "\n",
    "@cache\n",
    "def get_length_for_shortest_path(code, bot):\n",
    "\n",
    "    # The human just punches in the code\n",
    "    if bot == 0:\n",
    "        return len(code)\n",
    "    \n",
    "    # The iterations are the pairs of symbols in the code\n",
    "    iterations = zip(f\"A{code}\", code)\n",
    "\n",
    "    # Sum the total for the minimum path length for each pair of symbols\n",
    "    total = 0\n",
    "    for (start, end) in iterations:\n",
    "\n",
    "        min_path_len = float('inf')\n",
    "        for path in all_shortest_paths[start, end]:\n",
    "            length = get_length_for_shortest_path(path, bot - 1)\n",
    "            if length < min_path_len:\n",
    "                min_path_len = length\n",
    "\n",
    "        total += min_path_len\n",
    "    return total"
   ]
  },
  {
   "cell_type": "code",
   "execution_count": 316,
   "metadata": {},
   "outputs": [
    {
     "data": {
      "text/plain": [
       "278748"
      ]
     },
     "execution_count": 316,
     "metadata": {},
     "output_type": "execute_result"
    }
   ],
   "source": [
    "# Part 1\n",
    "total = 0\n",
    "for code in codes:\n",
    "    total += get_length_for_shortest_path(code, 3) * int(code[:-1])\n",
    "total"
   ]
  },
  {
   "cell_type": "code",
   "execution_count": 317,
   "metadata": {},
   "outputs": [
    {
     "data": {
      "text/plain": [
       "337744744231414"
      ]
     },
     "execution_count": 317,
     "metadata": {},
     "output_type": "execute_result"
    }
   ],
   "source": [
    "# Part 2\n",
    "total = 0\n",
    "for code in codes:\n",
    "    total += get_length_for_shortest_path(code, 26) * int(code[:-1])\n",
    "total"
   ]
  }
 ],
 "metadata": {
  "kernelspec": {
   "display_name": "Python 3",
   "language": "python",
   "name": "python3"
  },
  "language_info": {
   "codemirror_mode": {
    "name": "ipython",
    "version": 3
   },
   "file_extension": ".py",
   "mimetype": "text/x-python",
   "name": "python",
   "nbconvert_exporter": "python",
   "pygments_lexer": "ipython3",
   "version": "3.12.3"
  }
 },
 "nbformat": 4,
 "nbformat_minor": 2
}
