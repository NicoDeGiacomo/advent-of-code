{
 "cells": [
  {
   "cell_type": "code",
   "execution_count": 1,
   "metadata": {},
   "outputs": [],
   "source": [
    "input = '''...d............................J.................\n",
    "......e.............................J.............\n",
    "..........6............7..........................\n",
    "........................P7........................\n",
    "..................................................\n",
    ".........6........................................\n",
    "e..........................x.................E....\n",
    "...G...A.......d...........................o......\n",
    ".....A.e...........................J......8.......\n",
    "................6....9.....J.............E.8......\n",
    "..........d.9.........7..K....E...................\n",
    "...e.....U....9................x..K...............\n",
    "......A......O...........P................o.......\n",
    "......................x..................M..E.....\n",
    "........................x........p................\n",
    "........A..................O......................\n",
    ".......r.f....O.......P9..G.........m.............\n",
    "u...df..r...............7.........................\n",
    ".....g.............nXu......N.........K...........\n",
    "..............l..........0..............p.........\n",
    ".......lu...................p......o..............\n",
    "....g..........l........0p..G.....F...............\n",
    ".....................................8......F.....\n",
    "...................................C..............\n",
    "....3................G0......................M....\n",
    "2...f....g..........3........P......O......F......\n",
    "g......3.....0....H......................F..M.....\n",
    ".............c................m...h.....M.........\n",
    "...........2....l.................................\n",
    "..U...c......2...........................K........\n",
    ".D....................r.....f.....................\n",
    "....................N.............................\n",
    ".U..............h.................................\n",
    "...a.............u..............C.................\n",
    "c...Uj....a..6...H...................R............\n",
    "...3....j................H...............m........\n",
    ".......................5.......C..........4....m..\n",
    "......................H.........R......N....X.....\n",
    ".........h..2.................R................N..\n",
    ".......................r...........q...n..........\n",
    ".....c..............5.............................\n",
    "..a..h....D.................................n.....\n",
    "......qk..................D............1.....X....\n",
    ".k..................................q.............\n",
    "..k..........a.............L................1....4\n",
    "......k..........RQ..5.L.j..1..................4..\n",
    "..................................................\n",
    "..............L.....................oX............\n",
    "........Q.............L.........n.................\n",
    "...........Q.D........5..........1............4...'''"
   ]
  },
  {
   "cell_type": "code",
   "execution_count": 2,
   "metadata": {},
   "outputs": [],
   "source": [
    "matrix = [list(row) for row in input.split('\\n')]\n",
    "\n",
    "antennas = {}\n",
    "for i in range(len(matrix)):\n",
    "    for j in range(len(matrix[i])):\n",
    "        if matrix[i][j].isalnum():\n",
    "            if matrix[i][j] not in antennas:\n",
    "                antennas[matrix[i][j]] = []\n",
    "            antennas[matrix[i][j]].append((i, j))\n",
    "\n",
    "def calculate_line(c1, c2):\n",
    "    return lambda x: (c2[1] - c1[1]) / (c2[0] - c1[0]) * (x - c1[0]) + c1[1]\n",
    "\n",
    "def distance(c1, c2):\n",
    "    return abs(c1[0] - c2[0]) + abs(c1[1] - c2[1])"
   ]
  },
  {
   "cell_type": "code",
   "execution_count": 3,
   "metadata": {},
   "outputs": [
    {
     "data": {
      "text/plain": [
       "291"
      ]
     },
     "execution_count": 3,
     "metadata": {},
     "output_type": "execute_result"
    }
   ],
   "source": [
    "# Answer 1\n",
    "matrix = [list(row) for row in input.split('\\n')]\n",
    "for antenna, coords in antennas.items():\n",
    "    for c1 in coords:\n",
    "        for c2 in coords:\n",
    "            if c1 == c2:\n",
    "                continue\n",
    "            \n",
    "            line = calculate_line(c1, c2)\n",
    "            \n",
    "            for i in range(len(matrix)):\n",
    "                for j in range(len(matrix[i])):\n",
    "                    if line(i) == j:\n",
    "                        if distance(c1, (i, j)) == 2 * distance(c2, (i, j)) or distance(c2, (i, j)) == 2 * distance(c1, (i, j)):\n",
    "                            # if matrix[i][j] == '.':\n",
    "                            matrix[i][j] = '#'\n",
    "        \n",
    "total = 0\n",
    "for row in matrix:\n",
    "    for cell in row:\n",
    "        if cell == '#':\n",
    "            total += 1\n",
    "total"
   ]
  },
  {
   "cell_type": "code",
   "execution_count": 4,
   "metadata": {},
   "outputs": [
    {
     "data": {
      "text/plain": [
       "1015"
      ]
     },
     "execution_count": 4,
     "metadata": {},
     "output_type": "execute_result"
    }
   ],
   "source": [
    "# Answer 2\n",
    "matrix = [list(row) for row in input.split('\\n')]\n",
    "for antenna, coords in antennas.items():\n",
    "    for c1 in coords:\n",
    "        for c2 in coords:\n",
    "            if c1 == c2:\n",
    "                continue\n",
    "            \n",
    "            line = calculate_line(c1, c2)\n",
    "            \n",
    "            for i in range(len(matrix)):\n",
    "                for j in range(len(matrix[i])):\n",
    "                    if line(i) == j:    \n",
    "                        matrix[i][j] = '#'\n",
    "        \n",
    "total = 0\n",
    "for row in matrix:\n",
    "    for cell in row:\n",
    "        if cell == '#':\n",
    "            total += 1\n",
    "total"
   ]
  }
 ],
 "metadata": {
  "kernelspec": {
   "display_name": "Python 3",
   "language": "python",
   "name": "python3"
  },
  "language_info": {
   "codemirror_mode": {
    "name": "ipython",
    "version": 3
   },
   "file_extension": ".py",
   "mimetype": "text/x-python",
   "name": "python",
   "nbconvert_exporter": "python",
   "pygments_lexer": "ipython3",
   "version": "3.12.3"
  }
 },
 "nbformat": 4,
 "nbformat_minor": 2
}
